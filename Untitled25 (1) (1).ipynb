{
  "nbformat": 4,
  "nbformat_minor": 0,
  "metadata": {
    "colab": {
      "provenance": [],
      "toc_visible": true
    },
    "kernelspec": {
      "name": "python3",
      "display_name": "Python 3"
    },
    "language_info": {
      "name": "python"
    }
  },
  "cells": [
    {
      "cell_type": "code",
      "source": [
        "from scenedetect import VideoManager, SceneManager\n",
        "from scenedetect.detectors import ContentDetector\n",
        "import easyocr\n",
        "import cv2\n",
        "import time\n",
        "\n",
        "# Initialize EasyOCR Reader with CPU and enable quantization\n",
        "reader = easyocr.Reader(['en'], gpu=False, quantize=True)\n",
        "\n",
        "# Initialize SceneDetect\n",
        "video_path = '/content/videoplayback.mp4'\n",
        "video_manager = VideoManager([video_path])\n",
        "scene_manager = SceneManager()\n",
        "scene_manager.add_detector(ContentDetector(threshold=0.2))  # Adjust threshold\n",
        "\n",
        "video_manager.start()\n",
        "scene_manager.detect_scenes(video_manager)\n",
        "scene_list = scene_manager.get_scene_list()\n",
        "print(f\"Detected {len(scene_list)} scenes.\")\n",
        "\n",
        "# Open video with OpenCV\n",
        "cap = cv2.VideoCapture(video_path)\n",
        "if not cap.isOpened():\n",
        "    print(\"Error opening video file\")\n",
        "    exit()\n",
        "\n",
        "# Retrieve and print the FPS of the video\n",
        "fps = cap.get(cv2.CAP_PROP_FPS)\n",
        "print(f\"Frames per Second (FPS): {fps:.2f}\")\n",
        "\n",
        "start_time = time.time()  # Start timing\n",
        "for scene_start, scene_end in scene_list:\n",
        "    scene_start = int(scene_start)\n",
        "    cap.set(cv2.CAP_PROP_POS_FRAMES, scene_start)\n",
        "    ret, frame = cap.read()\n",
        "    if not ret:\n",
        "        continue\n",
        "\n",
        "    # Convert frame to RGB\n",
        "    frame_rgb = cv2.cvtColor(frame, cv2.COLOR_BGR2RGB)\n",
        "\n",
        "    # Perform OCR\n",
        "    results = reader.readtext(frame_rgb)\n",
        "\n",
        "cap.release()\n",
        "total_time_scene_detect = time.time() - start_time  # End timing\n",
        "print(f\"SceneDetect CPU OCR Total Execution Time: {total_time_scene_detect:.2f} seconds\")\n"
      ],
      "metadata": {
        "colab": {
          "base_uri": "https://localhost:8080/"
        },
        "id": "rhkP-eqrkCG5",
        "outputId": "e1879e1e-98b5-4465-bc1c-e9d12f4da516"
      },
      "execution_count": 6,
      "outputs": [
        {
          "output_type": "stream",
          "name": "stderr",
          "text": [
            "WARNING:easyocr.easyocr:Using CPU. Note: This module is much faster with a GPU.\n",
            "ERROR:pyscenedetect:VideoManager is deprecated and will be removed.\n",
            "INFO:pyscenedetect:Loaded 1 video, framerate: 25.000 FPS, resolution: 640 x 360\n",
            "INFO:pyscenedetect:Downscale factor set to 2, effective resolution: 320 x 180\n",
            "INFO:pyscenedetect:Detecting scenes...\n"
          ]
        },
        {
          "output_type": "stream",
          "name": "stdout",
          "text": [
            "Detected 41 scenes.\n",
            "Frames per Second (FPS): 25.00\n",
            "SceneDetect CPU OCR Total Execution Time: 151.40 seconds\n"
          ]
        }
      ]
    },
    {
      "cell_type": "markdown",
      "source": [
        "# New Section"
      ],
      "metadata": {
        "id": "577GPKdH0e7e"
      }
    },
    {
      "cell_type": "code",
      "source": [],
      "metadata": {
        "id": "ZkfmY1EQu2iN"
      },
      "execution_count": null,
      "outputs": []
    }
  ]
}